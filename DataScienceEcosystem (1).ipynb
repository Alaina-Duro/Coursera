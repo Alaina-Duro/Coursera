{
 "cells": [
  {
   "cell_type": "code",
   "execution_count": 1,
   "id": "41b36ecf-c0b6-4896-bbee-68b6c6c195ca",
   "metadata": {},
   "outputs": [
    {
     "ename": "SyntaxError",
     "evalue": "invalid syntax (3448776859.py, line 1)",
     "output_type": "error",
     "traceback": [
      "\u001b[0;36m  Input \u001b[0;32mIn [1]\u001b[0;36m\u001b[0m\n\u001b[0;31m    H1 \"Data Science and Ecosystem\"\u001b[0m\n\u001b[0m       ^\u001b[0m\n\u001b[0;31mSyntaxError\u001b[0m\u001b[0;31m:\u001b[0m invalid syntax\n"
     ]
    }
   ],
   "source": [
    "H1 \"Data Science and Ecosystem\""
   ]
  },
  {
   "cell_type": "markdown",
   "id": "86a2a739-e6de-4d0f-9ef8-37af4da4b53c",
   "metadata": {},
   "source": [
    "[h1] Data Science and Ecosystem"
   ]
  },
  {
   "cell_type": "markdown",
   "id": "90e54dd5-7bd1-4714-b837-def8e5d9ccea",
   "metadata": {},
   "source": [
    "# Data Science and Ecosystem"
   ]
  },
  {
   "cell_type": "markdown",
   "id": "491ff222-dda7-4acb-8551-f09bf7faeac1",
   "metadata": {},
   "source": [
    "In this notebook, Data Science Tools and Ecosystem are summarized."
   ]
  },
  {
   "cell_type": "markdown",
   "id": "2815f6af-0f75-495a-92ef-68e260f86866",
   "metadata": {},
   "source": [
    "## Objectives\n",
    "* List popular languages for data science\n",
    "* Describe how to set up a Github repository\n",
    "* Explain the difference between Python and R"
   ]
  },
  {
   "cell_type": "markdown",
   "id": "dcf6e50f-913c-4de9-940d-a431604318f4",
   "metadata": {},
   "source": [
    "Some of the popular languages that Data Scientists use are:\n",
    "1. Python\n",
    "2. R\n",
    "3. C++"
   ]
  },
  {
   "cell_type": "markdown",
   "id": "6327a270-3ea8-4eac-8571-0f07b64b470b",
   "metadata": {},
   "source": [
    "Some of the commonly used libraries used by Data Scientists include:\n",
    "1. Pandas\n",
    "2. NumPy\n",
    "3. Scikit-learn"
   ]
  },
  {
   "cell_type": "markdown",
   "id": "75bac6f4-04d6-47c4-b693-01714ebc934e",
   "metadata": {},
   "source": [
    "|Data Science Tools|\n",
    "--------------------"
   ]
  },
  {
   "cell_type": "markdown",
   "id": "b7fa7c1a-8861-4817-bee9-5945d44c3acc",
   "metadata": {},
   "source": [
    "### Below are a few examples of evaluating arithmetic expressions in Python"
   ]
  },
  {
   "cell_type": "code",
   "execution_count": 3,
   "id": "11ee0bdb-2d02-4cb7-9aea-c60941a5e106",
   "metadata": {},
   "outputs": [
    {
     "data": {
      "text/plain": [
       "17"
      ]
     },
     "execution_count": 3,
     "metadata": {},
     "output_type": "execute_result"
    }
   ],
   "source": [
    "#This a simple arithmetic expression to mutiply then add integers\n",
    "(3*4)+5"
   ]
  },
  {
   "cell_type": "code",
   "execution_count": 4,
   "id": "d4845bdc-7f1b-4a3d-b594-9e0196586c57",
   "metadata": {},
   "outputs": [
    {
     "data": {
      "text/plain": [
       "3.3333333333333335"
      ]
     },
     "execution_count": 4,
     "metadata": {},
     "output_type": "execute_result"
    }
   ],
   "source": [
    "#This will convert 200 minutes to hours by dividing by 60\n",
    "200/60"
   ]
  },
  {
   "cell_type": "markdown",
   "id": "2129a2e9-3f43-41b3-91e3-74522d74510f",
   "metadata": {},
   "source": [
    "## Author\n",
    "Alaina Duro"
   ]
  },
  {
   "cell_type": "code",
   "execution_count": null,
   "id": "89c6b9e1-5e80-496d-abd6-701ca726a20b",
   "metadata": {},
   "outputs": [],
   "source": []
  }
 ],
 "metadata": {
  "kernelspec": {
   "display_name": "anaconda-2022.05-py39",
   "language": "python",
   "name": "conda-env-anaconda-2022.05-py39-py"
  },
  "language_info": {
   "codemirror_mode": {
    "name": "ipython",
    "version": 3
   },
   "file_extension": ".py",
   "mimetype": "text/x-python",
   "name": "python",
   "nbconvert_exporter": "python",
   "pygments_lexer": "ipython3",
   "version": "3.9.12"
  }
 },
 "nbformat": 4,
 "nbformat_minor": 5
}
